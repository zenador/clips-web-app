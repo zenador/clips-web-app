{
 "cells": [
  {
   "cell_type": "code",
   "execution_count": null,
   "metadata": {},
   "outputs": [],
   "source": [
    "import clips\n",
    "\n",
    "clipsE = clips.Environment()\n",
    "\n",
    "def stdout(msg):\n",
    "    print(msg)\n",
    "\n",
    "def clips_prompt(prompt, *options):\n",
    "    user_input = raw_input(prompt)\n",
    "    try:\n",
    "        int(user_input)\n",
    "        return clips.Integer(user_input)\n",
    "    except:\n",
    "        return clips.Symbol(user_input)\n",
    "    \n",
    "clipsE.define_function(stdout, \"debug\")\n",
    "clipsE.define_function(stdout, \"alert\")\n",
    "clipsE.define_function(clips_prompt, \"prompt\")\n",
    "\n",
    "clipsE.load(\"auto.clp\")"
   ]
  },
  {
   "cell_type": "code",
   "execution_count": null,
   "metadata": {},
   "outputs": [],
   "source": [
    "clipsE.reset()"
   ]
  },
  {
   "cell_type": "code",
   "execution_count": null,
   "metadata": {},
   "outputs": [],
   "source": [
    "clipsE.run()"
   ]
  },
  {
   "cell_type": "code",
   "execution_count": null,
   "metadata": {},
   "outputs": [],
   "source": []
  }
 ],
 "metadata": {
  "kernelspec": {
   "display_name": "Python 2",
   "language": "python",
   "name": "python2"
  },
  "language_info": {
   "codemirror_mode": {
    "name": "ipython",
    "version": 2
   },
   "file_extension": ".py",
   "mimetype": "text/x-python",
   "name": "python",
   "nbconvert_exporter": "python",
   "pygments_lexer": "ipython2",
   "version": "2.7.12"
  }
 },
 "nbformat": 4,
 "nbformat_minor": 2
}
