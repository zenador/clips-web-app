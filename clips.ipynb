{
 "cells": [
  {
   "cell_type": "code",
   "execution_count": null,
   "metadata": {},
   "outputs": [],
   "source": [
    "import clips\n",
    "\n",
    "def stdout(msg):\n",
    "    print(msg)\n",
    "\n",
    "def clips_prompt(prompt, options):\n",
    "    user_input = raw_input(prompt)\n",
    "    try:\n",
    "        int(user_input)\n",
    "        return clips.Integer(user_input)\n",
    "    except:\n",
    "        return clips.Symbol(user_input)\n",
    "    \n",
    "clips.RegisterPythonFunction(stdout, \"debug\")\n",
    "clips.RegisterPythonFunction(stdout, \"alert\")\n",
    "clips.RegisterPythonFunction(clips_prompt, \"prompt\")\n",
    "\n",
    "clipsE = clips.Environment()\n",
    "\n",
    "clipsE.Load(\"header_python.clp\")\n",
    "clipsE.Load(\"auto.clp\")"
   ]
  },
  {
   "cell_type": "code",
   "execution_count": null,
   "metadata": {},
   "outputs": [],
   "source": [
    "clipsE.Reset()\n",
    "# clipsE.PrintFacts()"
   ]
  },
  {
   "cell_type": "code",
   "execution_count": null,
   "metadata": {},
   "outputs": [],
   "source": [
    "clipsE.Run()"
   ]
  },
  {
   "cell_type": "code",
   "execution_count": null,
   "metadata": {},
   "outputs": [],
   "source": []
  }
 ],
 "metadata": {
  "kernelspec": {
   "display_name": "Python 2",
   "language": "python",
   "name": "python2"
  },
  "language_info": {
   "codemirror_mode": {
    "name": "ipython",
    "version": 2
   },
   "file_extension": ".py",
   "mimetype": "text/x-python",
   "name": "python",
   "nbconvert_exporter": "python",
   "pygments_lexer": "ipython2",
   "version": "2.7.12"
  }
 },
 "nbformat": 4,
 "nbformat_minor": 2
}
